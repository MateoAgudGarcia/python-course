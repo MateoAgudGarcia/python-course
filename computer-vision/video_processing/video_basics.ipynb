{
 "cells": [
  {
   "cell_type": "code",
   "execution_count": 1,
   "metadata": {},
   "outputs": [],
   "source": [
    "import cv2"
   ]
  },
  {
   "cell_type": "code",
   "execution_count": 2,
   "metadata": {},
   "outputs": [],
   "source": [
    "cap = cv2.VideoCapture(0)\n",
    "\n",
    "width = int(cap.get(cv2.CAP_PROP_FRAME_WIDTH))\n",
    "height = int(cap.get(cv2.CAP_PROP_FRAME_HEIGHT))\n",
    "\n",
    "writer = cv2.VideoWriter('example.mp4', cv2.VideoWriter_fourcc(*'DIVX'),30,(width,height))\n",
    "\n",
    "while(1):  \n",
    "    ret,frame = cap.read()\n",
    "    camera = cv2.cvtColor(frame, cv2.COLOR_BGR2GRAY)\n",
    "    writer.write(frame)\n",
    "    cv2.imshow('CÁMARA PC',frame)  \n",
    "    if cv2.waitKey(20) & 0xFF == 27:  \n",
    "        break  \n",
    "\n",
    "cap.release()\n",
    "cv2.destroyAllWindows()"
   ]
  },
  {
   "cell_type": "code",
   "execution_count": 2,
   "metadata": {},
   "outputs": [
    {
     "name": "stdout",
     "output_type": "stream",
     "text": [
      "True\n"
     ]
    }
   ],
   "source": [
    "import time\n",
    "cap = cv2.VideoCapture('../DATA/hand_move.mp4')\n",
    "frames_counter = 1\n",
    "if cap.isOpened() == False:\n",
    "    print('FILE NOT FOUND OR WRONG CODEC USED')\n",
    "\n",
    "while cap.isOpened():\n",
    "    ret,frame = cap.read()\n",
    "    if ret == True:\n",
    "        time.sleep(1/30)\n",
    "        cv2.imshow('frame',frame)\n",
    "            \n",
    "        if cv2.waitKey(1) & 0xFF == 27:  \n",
    "            break\n",
    "    else:\n",
    "        break\n",
    "cap.release()\n",
    "cv2.destroyAllWindows()\n"
   ]
  }
 ],
 "metadata": {
  "interpreter": {
   "hash": "2be5faf79681da6f2a61fdfdd5405d65d042280f7fba6178067603e3a2925119"
  },
  "kernelspec": {
   "display_name": "Python 3.10.0 64-bit",
   "language": "python",
   "name": "python3"
  },
  "language_info": {
   "codemirror_mode": {
    "name": "ipython",
    "version": 3
   },
   "file_extension": ".py",
   "mimetype": "text/x-python",
   "name": "python",
   "nbconvert_exporter": "python",
   "pygments_lexer": "ipython3",
   "version": "3.10.0"
  },
  "orig_nbformat": 4
 },
 "nbformat": 4,
 "nbformat_minor": 2
}
