{
 "cells": [
  {
   "cell_type": "code",
   "execution_count": 4,
   "metadata": {},
   "outputs": [],
   "source": [
    "import pandas\n",
    "from bokeh.plotting import figure\n",
    "from bokeh.io import output_file, show\n",
    "\n",
    "data = pandas.read_excel('verlegenhuken.xlsx')\n",
    "temp = data['Temperature']\n",
    "press = data['Pressure']/10\n",
    "\n",
    "output_file('pressure_vs_temperature.html')\n",
    "f = figure()\n",
    "f.circle(temp,press,size=0.5)\n",
    "f.title.text ='Temperature and Air Pressure'\n",
    "f.xaxis.axis_label = 'Temperature (ºC)'\n",
    "f.yaxis.axis_label = 'Pressure (hPa)'\n",
    "\n",
    "show(f)"
   ]
  }
 ],
 "metadata": {
  "interpreter": {
   "hash": "2be5faf79681da6f2a61fdfdd5405d65d042280f7fba6178067603e3a2925119"
  },
  "kernelspec": {
   "display_name": "Python 3.10.0 64-bit",
   "language": "python",
   "name": "python3"
  },
  "language_info": {
   "codemirror_mode": {
    "name": "ipython",
    "version": 3
   },
   "file_extension": ".py",
   "mimetype": "text/x-python",
   "name": "python",
   "nbconvert_exporter": "python",
   "pygments_lexer": "ipython3",
   "version": "3.10.0"
  },
  "orig_nbformat": 4
 },
 "nbformat": 4,
 "nbformat_minor": 2
}
